{
  "cells": [
    {
      "cell_type": "markdown",
      "metadata": {
        "id": "view-in-github",
        "colab_type": "text"
      },
      "source": [
        "<a href=\"https://colab.research.google.com/github/Shuvam02/AI-ML-training/blob/main/Introduction/Numpy_5th_sem.ipynb\" target=\"_parent\"><img src=\"https://colab.research.google.com/assets/colab-badge.svg\" alt=\"Open In Colab\"/></a>"
      ]
    },
    {
      "cell_type": "markdown",
      "source": [
        "#Introduction to numpy\n",
        "What we will cover?\n",
        "-Creating single dimension arrays\n",
        "-Multidimensional arrays\n",
        "-Randomly generated arrays\n",
        "-Element wise operation\n",
        "-Summarizing operations"
      ],
      "metadata": {
        "id": "2_JH7pzmw-Kf"
      }
    },
    {
      "cell_type": "markdown",
      "source": [
        "##Single Dimension Arrays"
      ],
      "metadata": {
        "id": "4fxNVELKx6TB"
      }
    },
    {
      "cell_type": "code",
      "execution_count": null,
      "metadata": {
        "id": "yitbm4cMsSAp"
      },
      "outputs": [],
      "source": [
        "import numpy as np"
      ]
    },
    {
      "cell_type": "code",
      "execution_count": null,
      "metadata": {
        "colab": {
          "base_uri": "https://localhost:8080/"
        },
        "id": "nwMn7ywrs5Q6",
        "outputId": "72c222c2-5bb4-485e-b2df-ec53fd13e328"
      },
      "outputs": [
        {
          "data": {
            "text/plain": [
              "array([0., 0., 0., 0., 0.])"
            ]
          },
          "execution_count": 5,
          "metadata": {},
          "output_type": "execute_result"
        }
      ],
      "source": [
        "#create an array with all the elements as 0\n",
        "np.zeros(5)"
      ]
    },
    {
      "cell_type": "code",
      "execution_count": null,
      "metadata": {
        "colab": {
          "base_uri": "https://localhost:8080/"
        },
        "id": "i_XGq4a0tb-k",
        "outputId": "b80c517c-6c69-41a7-b474-2bcc8c24e707"
      },
      "outputs": [
        {
          "data": {
            "text/plain": [
              "array([1., 1., 1., 1., 1.])"
            ]
          },
          "execution_count": 6,
          "metadata": {},
          "output_type": "execute_result"
        }
      ],
      "source": [
        "#create am array with all the elements as 1\n",
        "np.ones(5)"
      ]
    },
    {
      "cell_type": "code",
      "execution_count": null,
      "metadata": {
        "colab": {
          "base_uri": "https://localhost:8080/"
        },
        "id": "a_Si3T9ctkwZ",
        "outputId": "e6c84626-a404-4376-d3eb-aea8377d66a7"
      },
      "outputs": [
        {
          "output_type": "execute_result",
          "data": {
            "text/plain": [
              "array([3, 3, 3, 3, 3, 3, 3, 3, 3, 3])"
            ]
          },
          "metadata": {},
          "execution_count": 12
        }
      ],
      "source": [
        "#create an array of size 10 with all elements 3\n",
        "np.full(10,3)"
      ]
    },
    {
      "cell_type": "code",
      "source": [
        "#create an array starting with 3 and ending with 9\n",
        "np.arange(3,10)"
      ],
      "metadata": {
        "colab": {
          "base_uri": "https://localhost:8080/"
        },
        "id": "Pi_NQ4Kqv6Bt",
        "outputId": "7544cd8e-f530-4354-e91d-251349ed7e8d"
      },
      "execution_count": null,
      "outputs": [
        {
          "output_type": "execute_result",
          "data": {
            "text/plain": [
              "array([3, 4, 5, 6, 7, 8, 9])"
            ]
          },
          "metadata": {},
          "execution_count": 11
        }
      ]
    },
    {
      "cell_type": "code",
      "source": [
        "#create an array with evenly spaced numbers within a specified range\n",
        "np.linspace(0,100,11)"
      ],
      "metadata": {
        "colab": {
          "base_uri": "https://localhost:8080/"
        },
        "id": "DadNXGLcwM6y",
        "outputId": "b87f6a1d-5478-40c3-e774-d603a247125b"
      },
      "execution_count": null,
      "outputs": [
        {
          "output_type": "execute_result",
          "data": {
            "text/plain": [
              "array([  0.,  10.,  20.,  30.,  40.,  50.,  60.,  70.,  80.,  90., 100.])"
            ]
          },
          "metadata": {},
          "execution_count": 13
        }
      ]
    },
    {
      "cell_type": "code",
      "source": [],
      "metadata": {
        "id": "jI33MdWFwi20"
      },
      "execution_count": null,
      "outputs": []
    },
    {
      "cell_type": "markdown",
      "source": [
        "##Multi-Dimensional Array"
      ],
      "metadata": {
        "id": "wCDci_5_yFyj"
      }
    },
    {
      "cell_type": "code",
      "source": [
        "#create 2-D array with all 0\n",
        "np.a"
      ],
      "metadata": {
        "id": "D2GK0p-3yKw-"
      },
      "execution_count": null,
      "outputs": []
    }
  ],
  "metadata": {
    "colab": {
      "provenance": [],
      "authorship_tag": "ABX9TyNquCVZ8vNirXo65CcphAqU",
      "include_colab_link": true
    },
    "kernelspec": {
      "display_name": "Python 3",
      "name": "python3"
    },
    "language_info": {
      "name": "python"
    }
  },
  "nbformat": 4,
  "nbformat_minor": 0
}